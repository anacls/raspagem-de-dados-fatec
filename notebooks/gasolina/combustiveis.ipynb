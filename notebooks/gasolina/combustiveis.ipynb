{
 "cells": [
  {
   "cell_type": "code",
   "execution_count": 1,
   "metadata": {
    "collapsed": true
   },
   "outputs": [],
   "source": [
    "from bs4 import BeautifulSoup\n",
    "import requests"
   ]
  },
  {
   "cell_type": "code",
   "execution_count": 14,
   "metadata": {
    "collapsed": false
   },
   "outputs": [],
   "source": [
    "cookies = dict(ASPSESSIONIDQQSCSCDR='GIDAOFKCCKLILHJGKILILHEN',\n",
    "    ASPSESSIONIDQSTDQDAT='CCEGNCHCJHEKDPGONGAIANHJ', \n",
    "    ASPSESSIONIDQSQBSCCR='HENFNFKCONKCKBNMJOGLIKDO',\n",
    "    c8a87cde00219887c6f7e6e31546f4f4='0h87u4br2tckmgo775ugo3fp26',\n",
    "    ASPSESSIONIDSQSASBBQ='DHKHDIGDMOBCBDPIIDPIIFOH',\n",
    "    ASPSESSIONIDQQRARBCS='BGIJMNDBLKPGBJBHLJCLKAEL',           \n",
    "    ASPSESSIONIDQSSBRDDS='KAMHCHGBHCAAIFALNJOFLLGN',\n",
    "    ASPSESSIONIDSSRDSDBT='GJKHIIJBMFEIHJBFHEKNFLBH',\n",
    "    ASPSESSIONIDQQQBRADT='JECNKMMBHAEEEBCCJOAMPPJD',\n",
    "    ASPSESSIONIDQQRDTCCS='BKDKHLMBNDAMMDPHNBECIFBK',\n",
    "    ASPSESSIONIDQSQDQDCS='OHFNJJJBEJDONJOEKGILJBGO',\n",
    "    ASPSESSIONIDSSRARAAQ='HJAKILMBOLEBPOPPIOLPEKJH',\n",
    "    ASPSESSIONIDQSTCRCBS='LGHLOCDBFDLLBNJCAGKAIDJC',\n",
    "    ASPSESSIONIDQQTDRDBR='JNPFIFGBOAGKICGHLIFHMCMH',\n",
    "    ASPSESSIONIDCSSATCDT='GHJBNOPBIOCMGMAIFIJLMNGD',\n",
    "    ASPSESSIONIDQQSDSDAR='IMINEGFCJPJDIPNGIEDFEDDH',\n",
    "    ASPSESSIONIDSQTDQDCS='FKINEGFCGGEGKHOGILEGLIOF',\n",
    "    ASPSESSIONIDCCAQRBBQ='DOHAFGFCJLFAHCDMBOCEDDFF',\n",
    "    ASPSESSIONIDSQQBQCBT='KHHIEJICAACNFFNPIOAMMJOJ',\n",
    "    ASPSESSIONIDSSQBTDDS='HKAODPOCOEPFEPHJBMCPOJDN',\n",
    "    ASPSESSIONIDACATRDBQ='LPHNCFFDFIDJGPGCEDJODLNI',\n",
    "    ASPSESSIONIDQSQAQBAS='DLFJDFFDNAMIIBGEOOMMCCGF',\n",
    "    ASPSESSIONIDQSRCSACS='LOLEBEFAIOLCALFPAHLDPILE',\n",
    "    ASPSESSIONIDQQQCSABR='ICINJCCAAGGAMCBPGLPJFHMN',\n",
    "    ASPSESSIONIDSQSDTBCT='FBGGPCFBNNDJNCPCOKBGFMJI',\n",
    "    ASPSESSIONIDSSQCSCDR='CDINBDFBFPLLFMLNOGEPDBPN',\n",
    "    ASPSESSIONIDQQRCTBAS='IFENPFIBHIKJMADEBCDAPLGK',\n",
    "    ASPSESSIONIDSQSCTAAQ='OCDJOILBAMOLEIHFDJLMAAFJ',\n",
    "    ASPSESSIONIDACDTSBBR='ICMDAACBBHIEBPFBGGFLLMJL',\n",
    "    ASPSESSIONIDASSCSCDT='FEGEAACBHJHLJJKMOGOFMABF',\n",
    "    ASPSESSIONIDACBQQCAQ='JEEKPFIBNBAGBOEOCNPHCKEG',\n",
    "    ASPSESSIONIDSQRCRDDS='HMBHAJLBHJGJGNFCAAKKNIDG',\n",
    "    ASPSESSIONIDAQTBQDDS='ODKEAGIBOPFAOMMCCNCOAHIE',\n",
    "    __utmt='1',\n",
    "    __utma='46118004.256066673.1514513570.1516482470.1516495060.7',\n",
    "    __utmb='46118004.1.10.1516495060',\n",
    "    __utmc='46118004',\n",
    "    __utmz='46118004.1516482470.6.4.utmcsr=google|utmccn=(organic)|utmcmd=organic|utmctr=(not%20provided)',\n",
    "    ASPSESSIONIDCCCTSCBR='KAODPLOBBNMCHOEOEEGADHLB'\n",
    ")\n"
   ]
  },
  {
   "cell_type": "code",
   "execution_count": 15,
   "metadata": {
    "collapsed": false
   },
   "outputs": [],
   "source": [
    "url = 'http://www.anp.gov.br/preco/prc/Resumo_Quatro_Combustiveis.asp'\n",
    "r = requests.get(url, cookies=cookies)"
   ]
  },
  {
   "cell_type": "code",
   "execution_count": 16,
   "metadata": {
    "collapsed": true
   },
   "outputs": [],
   "source": [
    "soup = BeautifulSoup(r.content, 'html.parser')"
   ]
  },
  {
   "cell_type": "code",
   "execution_count": 18,
   "metadata": {
    "collapsed": false
   },
   "outputs": [
    {
     "name": "stdout",
     "output_type": "stream",
     "text": [
      "\n",
      "\n",
      "\r\n",
      "\t\t\tDADOS BRASIL\r\n",
      "\t\t\n",
      "\n",
      "\n",
      "\r\n",
      "\t\t\tproduto\r\n",
      "\t\t\n",
      "\r\n",
      "\t\t\tunidade\r\n",
      "\t\t\n",
      "\r\n",
      "\t\t\tsemana\r\n",
      "\t\t\n",
      "\r\n",
      "\t\t\tnº de postospesquisados\r\n",
      "\t\t\n",
      "\r\n",
      "\t\t\tPreço ao Consumidor \n",
      "\r\n",
      "\t\t\tPreço Distribuidora\r\n",
      "\t\t\n",
      "\n",
      "\n",
      "\r\n",
      "\t\t\tpreço médio\r\n",
      "\t\t\n",
      "\r\n",
      "\t\t\tdesvio padrão\r\n",
      "\t\t\n",
      "\r\n",
      "\t\t\tpreço mínimo\r\n",
      "\t\t\n",
      "\r\n",
      "\t\t\tpreço máximo\r\n",
      "\t\t\n",
      "\r\n",
      "\t\t\tmargem média\r\n",
      "\t\t\n",
      "\r\n",
      "\t\t\tpreço médio\r\n",
      "\t\t\n",
      "\r\n",
      "\t\t\tdesvio padrão\r\n",
      "\t\t\n",
      "\r\n",
      "\t\t\tpreço mínimo\r\n",
      "\t\t\n",
      "\r\n",
      "\t\t\tpreço máximo\r\n",
      "\t\t\n",
      "\n",
      " GLP  R$/13kg  24/12/2017-30/12/2017 2562 67,419,0848,00106,0018,8948,527,8031,8185,00 GLP  R$/13kg  31/12/2017-06/01/2018 4368 67,208,7945,00115,0018,2148,997,6134,7686,00 GLP  R$/13kg  07/01/2018-13/01/2018 4367 67,288,7845,00115,0018,4648,827,6134,5886,00 GLP  R$/13kg  14/01/2018-20/01/2018 4367 67,088,8645,00115,0017,9549,137,8130,0094,50 GNV  R$/m3  24/12/2017-30/12/2017 150 2,3860,3021,8993,1990,6631,7230,2161,4752,289 GNV  R$/m3  31/12/2017-06/01/2018 269 2,4780,2851,7603,0990,7221,7560,1961,4752,258 GNV  R$/m3  07/01/2018-13/01/2018 314 2,4580,2981,7603,2990,6811,7770,1841,4462,258 GNV  R$/m3  14/01/2018-20/01/2018 286 2,4710,3001,7603,1570,7451,7260,2211,3542,360 Gasolina  R$/l  24/12/2017-30/12/2017 3166 4,0990,2603,3995,0000,4103,6890,2012,9904,366 Gasolina  R$/l  31/12/2017-06/01/2018 5398 4,1510,2693,4995,1500,4243,7270,2132,9044,388 Gasolina  R$/l  07/01/2018-13/01/2018 5758 4,1830,2683,4995,1500,4493,7340,2062,9904,388 Gasolina  R$/l  14/01/2018-20/01/2018 5747 4,1940,2683,5495,1500,4323,7620,2122,9904,394 Diesel  R$/l  24/12/2017-30/12/2017 1720 3,3260,1982,8904,4500,3772,9490,1532,1333,649 Diesel  R$/l  31/12/2017-06/01/2018 3175 3,3560,2002,8304,4700,3572,9990,1492,6303,725 Diesel  R$/l  07/01/2018-13/01/2018 3284 3,3680,2032,8994,4700,3623,0060,1522,4903,725 Diesel  R$/l  14/01/2018-20/01/2018 3264 3,3770,2032,7994,4700,3543,0230,1532,4903,730 Diesel S10  R$/l  24/12/2017-30/12/2017 2450 3,4640,2042,9404,4400,4113,0530,1492,5904,012 Diesel S10  R$/l  31/12/2017-06/01/2018 4224 3,4790,2062,9504,5900,4003,0790,1532,5204,142 Diesel S10  R$/l  07/01/2018-13/01/2018 4485 3,4940,2062,9494,5900,4003,0940,1542,5204,142 Diesel S10  R$/l  14/01/2018-20/01/2018 4449 3,5010,2052,9704,5990,3873,1140,1482,5733,988 Etanol  R$/l  24/12/2017-30/12/2017 2852 2,9120,3392,2194,2990,3442,5680,2781,6903,727 Etanol  R$/l  31/12/2017-06/01/2018 4807 2,9460,3422,2494,3900,3642,5820,2702,0333,649 Etanol  R$/l  07/01/2018-13/01/2018 5104 2,9630,3432,2494,3990,3592,6040,2622,1003,749 Etanol  R$/l  14/01/2018-20/01/2018 5117 2,9910,3412,2794,5900,3382,6530,2782,1003,908\n",
      "\n"
     ]
    }
   ],
   "source": [
    "print(soup.table.text)"
   ]
  }
 ],
 "metadata": {
  "kernelspec": {
   "display_name": "Python 3",
   "language": "python",
   "name": "python3"
  },
  "language_info": {
   "codemirror_mode": {
    "name": "ipython",
    "version": 3
   },
   "file_extension": ".py",
   "mimetype": "text/x-python",
   "name": "python",
   "nbconvert_exporter": "python",
   "pygments_lexer": "ipython3",
   "version": "3.6.0"
  }
 },
 "nbformat": 4,
 "nbformat_minor": 2
}
