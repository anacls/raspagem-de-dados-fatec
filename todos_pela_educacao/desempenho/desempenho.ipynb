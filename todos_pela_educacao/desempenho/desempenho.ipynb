{
 "cells": [
  {
   "cell_type": "code",
   "execution_count": 175,
   "metadata": {
    "collapsed": true
   },
   "outputs": [],
   "source": [
    "import csv\n",
    "import numpy as np"
   ]
  },
  {
   "cell_type": "markdown",
   "metadata": {},
   "source": [
    "A meta do Plano Nacional de Educação estabelece que até 2022, 70% ou mais dos alunos terão aprendido o que é adequado para seu ano.\n",
    "\n",
    "Considerando dados referente ao aprendizado de matemática no oitavo e nono ano do Ensino Fundamental:"
   ]
  },
  {
   "cell_type": "code",
   "execution_count": 255,
   "metadata": {
    "collapsed": false
   },
   "outputs": [],
   "source": [
    "with open('dados.csv', 'r', encoding='cp1252') as arquivo:\n",
    "    reader = csv.reader(arquivo, delimiter=',')\n",
    "    linhas = []\n",
    "    \n",
    "    for linha in reader:\n",
    "        linhas.append(linha)"
   ]
  },
  {
   "cell_type": "code",
   "execution_count": 256,
   "metadata": {
    "collapsed": false
   },
   "outputs": [],
   "source": [
    "anos = linhas[1][1:]\n",
    "metas = linhas[2][1:]\n",
    "brasil = linhas[3][1:]"
   ]
  },
  {
   "cell_type": "code",
   "execution_count": 257,
   "metadata": {
    "collapsed": false
   },
   "outputs": [],
   "source": [
    "lista = np.array([anos, metas, brasil])\n",
    "lista[lista==''] = '0'"
   ]
  },
  {
   "cell_type": "code",
   "execution_count": 258,
   "metadata": {
    "collapsed": false
   },
   "outputs": [],
   "source": [
    "lista = np.char.replace(lista, ',', '.')\n",
    "lista = lista.astype(np.float)"
   ]
  },
  {
   "cell_type": "code",
   "execution_count": 259,
   "metadata": {
    "collapsed": false
   },
   "outputs": [
    {
     "name": "stdout",
     "output_type": "stream",
     "text": [
      "Diferença entre a meta e os dados observados:\n",
      "\n",
      "        2007: 0.2%\n",
      "\n",
      "        2009: -3.1%\n",
      "\n",
      "        2011: -8.5%\n",
      "\n",
      "        2013: -20.7%\n",
      "\n",
      "        2015: -27.2%\n"
     ]
    }
   ],
   "source": [
    "print(\"Diferença entre a meta e os dados observados:\")\n",
    "for ano in lista[0]:\n",
    "    indice = np.where(lista[0] == ano)[0][0]\n",
    "    meta = lista[1][indice]\n",
    "    brasil = lista[2][indice]\n",
    "    diferenca = round(brasil - meta, 2)\n",
    "    ano = int(ano)\n",
    "    \n",
    "    if (meta != 0 and brasil != 0):\n",
    "        print(f'''\n",
    "        {ano}: {diferenca}%''')"
   ]
  },
  {
   "cell_type": "code",
   "execution_count": 267,
   "metadata": {
    "collapsed": false
   },
   "outputs": [
    {
     "name": "stdout",
     "output_type": "stream",
     "text": [
      "\n",
      " Taxa média de evolução observada nos últimos 11 anos: 0.14%\n"
     ]
    }
   ],
   "source": [
    "brasil = np.trim_zeros(lista[2])\n",
    "num_anos = len(brasil)\n",
    "evolucao = np.diff(dados)\n",
    "taxa_media_de_evolucao = round(np.mean(evolucao), 2)\n",
    "print(f'''\n",
    " Taxa média de evolução observada nos últimos {num_anos} anos: {taxa_media_de_evolucao}%'''\n",
    ")"
   ]
  },
  {
   "cell_type": "code",
   "execution_count": 269,
   "metadata": {
    "collapsed": false
   },
   "outputs": [
    {
     "name": "stdout",
     "output_type": "stream",
     "text": [
      "\n",
      " Taxa média de evolução observada nos metas do PNE: 7.99%\n"
     ]
    }
   ],
   "source": [
    "metas = np.trim_zeros(lista[1])\n",
    "num_anos = len(metas)\n",
    "evolucao = np.diff(metas)\n",
    "taxa_media_de_evolucao = round(np.mean(evolucao), 2)\n",
    "print(f'''\n",
    " Taxa média de evolução observada nos metas do PNE: {taxa_media_de_evolucao}%'''\n",
    ")"
   ]
  },
  {
   "cell_type": "markdown",
   "metadata": {},
   "source": [
    "fonte: http://www.todospelaeducacao.org.br/indicadores-da-educacao/5-metas?task=indicador_educacao&id_indicador=15"
   ]
  }
 ],
 "metadata": {
  "kernelspec": {
   "display_name": "Python 3",
   "language": "python",
   "name": "python3"
  },
  "language_info": {
   "codemirror_mode": {
    "name": "ipython",
    "version": 3
   },
   "file_extension": ".py",
   "mimetype": "text/x-python",
   "name": "python",
   "nbconvert_exporter": "python",
   "pygments_lexer": "ipython3",
   "version": "3.6.0"
  }
 },
 "nbformat": 4,
 "nbformat_minor": 2
}
