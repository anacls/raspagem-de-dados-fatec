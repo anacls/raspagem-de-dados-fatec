{
 "cells": [
  {
   "cell_type": "code",
   "execution_count": 5,
   "metadata": {
    "collapsed": true
   },
   "outputs": [],
   "source": [
    "import csv\n",
    "import numpy as np"
   ]
  },
  {
   "cell_type": "markdown",
   "metadata": {},
   "source": [
    "Até 2022, 70% ou mais dos alunos terão aprendido o que é adequado para seu ano.\n",
    "\n",
    "8ª/9º EF - Mat."
   ]
  },
  {
   "cell_type": "code",
   "execution_count": 6,
   "metadata": {
    "collapsed": false
   },
   "outputs": [],
   "source": [
    "with open('dados.csv', 'r', encoding='cp1252') as arquivo:\n",
    "    reader = csv.reader(arquivo, delimiter=',')\n",
    "    linhas = []\n",
    "    \n",
    "    for linha in reader:\n",
    "        linhas.append(linha)"
   ]
  },
  {
   "cell_type": "code",
   "execution_count": 8,
   "metadata": {
    "collapsed": false
   },
   "outputs": [],
   "source": [
    "anos = linhas[1][1:]\n",
    "metas = linhas[2][1:]\n",
    "brasil = linhas[3][1:]"
   ]
  },
  {
   "cell_type": "code",
   "execution_count": 9,
   "metadata": {
    "collapsed": false
   },
   "outputs": [
    {
     "name": "stdout",
     "output_type": "stream",
     "text": [
      "[['1995' '1997' '1999' '2001' '2003' '2005' '2007' '2009' '2011' '2013'\n",
      "  '2015' '2017' '2019' '2021']\n",
      " ['' '' '' '' '' '' '14,1' '17,9' '25,4' '37,1' '45,4' '54' '62,3' '70']\n",
      " ['16,8' '16,7' '13,2' '13,4' '14,7' '13' '14,3' '14,8' '16,9' '16,4'\n",
      "  '18,2' '' '' '']]\n"
     ]
    }
   ],
   "source": [
    "lista = np.array([anos, metas, brasil])\n",
    "print(lista)"
   ]
  },
  {
   "cell_type": "markdown",
   "metadata": {},
   "source": [
    "Dados referentes ao ano de 2015:"
   ]
  },
  {
   "cell_type": "code",
   "execution_count": 10,
   "metadata": {
    "collapsed": false
   },
   "outputs": [],
   "source": [
    "ano = '2015'"
   ]
  },
  {
   "cell_type": "code",
   "execution_count": 11,
   "metadata": {
    "collapsed": false
   },
   "outputs": [],
   "source": [
    "indice = np.where(lista[0] == ano)[0][0]\n",
    "meta = lista[1][indice]\n",
    "brasil = lista[2][indice]"
   ]
  },
  {
   "cell_type": "code",
   "execution_count": 12,
   "metadata": {
    "collapsed": false,
    "scrolled": true
   },
   "outputs": [
    {
     "name": "stdout",
     "output_type": "stream",
     "text": [
      "Ano: 2015\n",
      "Meta: 45,4\n",
      "Brasil: 18,2\n"
     ]
    }
   ],
   "source": [
    "print(\"Ano: \"+ ano)\n",
    "print(\"Meta: \" + meta)\n",
    "print(\"Brasil: \" + brasil)"
   ]
  },
  {
   "cell_type": "markdown",
   "metadata": {},
   "source": [
    "fonte: http://www.todospelaeducacao.org.br/indicadores-da-educacao/5-metas?task=indicador_educacao&id_indicador=15"
   ]
  }
 ],
 "metadata": {
  "kernelspec": {
   "display_name": "Python 3",
   "language": "python",
   "name": "python3"
  },
  "language_info": {
   "codemirror_mode": {
    "name": "ipython",
    "version": 3
   },
   "file_extension": ".py",
   "mimetype": "text/x-python",
   "name": "python",
   "nbconvert_exporter": "python",
   "pygments_lexer": "ipython3",
   "version": "3.6.0"
  }
 },
 "nbformat": 4,
 "nbformat_minor": 2
}
